{
 "cells": [
  {
   "cell_type": "markdown",
   "metadata": {},
   "source": [
    "# テンソルネットワークのサンプル\n",
    "\n",
    "参考資料\n",
    "<https://zenn.dev/torataro/articles/2023-11-12-tensor_network>"
   ]
  },
  {
   "cell_type": "markdown",
   "metadata": {},
   "source": [
    "以下のような計算を考える\n",
    "$$\n",
    "w_i = \\sum_j A_{ij} v_j\n",
    "$$\n",
    "\n",
    "実際の値としては、\n",
    "\n",
    "$$\n",
    "v = \\begin{pmatrix} 1 \\\\ 2\\end{pmatrix} \\newline\n",
    "A = \\begin{pmatrix} 1 & 2 \\\\ 3 & 4\\end{pmatrix}\n",
    "\n",
    "$$"
   ]
  },
  {
   "cell_type": "code",
   "execution_count": 21,
   "metadata": {},
   "outputs": [],
   "source": [
    "import numpy as np\n",
    "import tensornetwork as tn # TensorNetworkライブラリのインポート\n",
    "\n",
    "v = np.array([1,2]) # ベクトルvの定義\n",
    "A = np.array([[1,2],[3,4]]) # 行列Aの定義\n",
    "\n",
    "v_Node = tn.Node(v, name=\"vector_v\") # ベクトルvのノードの定義\n",
    "A_Node = tn.Node(A, name=\"matrix_A\") # 行列Aのノードの定義"
   ]
  },
  {
   "cell_type": "code",
   "execution_count": 22,
   "metadata": {},
   "outputs": [
    {
     "name": "stdout",
     "output_type": "stream",
     "text": [
      "<class 'tensornetwork.network_components.Node'>\n",
      "matrix_A\n",
      "[[1 2]\n",
      " [3 4]]\n",
      "[\n",
      "Edge(Dangling Edge)[0] \n",
      ", \n",
      "Edge(Dangling Edge)[1] \n",
      "]\n"
     ]
    }
   ],
   "source": [
    "# check\n",
    "print(type(A_Node))\n",
    "print(A_Node.name)\n",
    "print(A_Node.tensor)\n",
    "print(A_Node.edges)"
   ]
  },
  {
   "cell_type": "code",
   "execution_count": 23,
   "metadata": {},
   "outputs": [
    {
     "data": {
      "text/plain": [
       "\n",
       "Edge(Dangling Edge)[0] "
      ]
     },
     "execution_count": 23,
     "metadata": {},
     "output_type": "execute_result"
    }
   ],
   "source": [
    "A_Node[0]  # A_Node.edges[0]と同様の動きをする"
   ]
  },
  {
   "cell_type": "markdown",
   "metadata": {},
   "source": [
    "ここで、A_Node[0]が添え字のi, A_Node[1]が添え字のjに対応する状態となっている。"
   ]
  },
  {
   "cell_type": "code",
   "execution_count": 24,
   "metadata": {},
   "outputs": [],
   "source": [
    "# エッジの結合　A_ij vj　を生成する\n",
    "connect = tn.connect(A_Node[1], v_Node[0])"
   ]
  },
  {
   "cell_type": "code",
   "execution_count": 25,
   "metadata": {},
   "outputs": [
    {
     "data": {
      "text/plain": [
       "array([ 5, 11])"
      ]
     },
     "execution_count": 25,
     "metadata": {},
     "output_type": "execute_result"
    }
   ],
   "source": [
    "# 縮約\n",
    "w_Node = tn.contract(connect)\n",
    "# 結果を表示する\n",
    "w_Node.tensor"
   ]
  },
  {
   "cell_type": "code",
   "execution_count": 26,
   "metadata": {},
   "outputs": [
    {
     "data": {
      "text/plain": [
       "array([  5, -11])"
      ]
     },
     "execution_count": 26,
     "metadata": {},
     "output_type": "execute_result"
    }
   ],
   "source": [
    "# contractors.autoを使うと便利に縮約ができる。\n",
    "v = np.array([1,2]) # ベクトルvの定義\n",
    "A = np.array([[1,2],[3,4]]) # 行列Aの定義\n",
    "B = np.array([[1,0],[0,-1]])\n",
    "\n",
    "v_Node = tn.Node(v, name=\"vector_v\") # ベクトルvのノードの定義\n",
    "A_Node = tn.Node(A, name=\"matrix_A\") # 行列Aのノードの定義\n",
    "B_Node = tn.Node(B, name=\"matrix_B\")\n",
    "\n",
    "tn.connect(A_Node[1], v_Node[0]) # 脚の結合\n",
    "tn.connect(B_Node[1], A_Node[0]) # 脚の結合\n",
    "\n",
    "w_Node = tn.contractors.auto( # 縮約する\n",
    "    nodes=[v_Node, A_Node, B_Node],\n",
    "    output_edge_order=[B_Node[0]]\n",
    ")\n",
    "w_Node.tensor # 結果表示"
   ]
  },
  {
   "cell_type": "markdown",
   "metadata": {},
   "source": [
    "量子もつれをTNで計算する"
   ]
  },
  {
   "cell_type": "markdown",
   "metadata": {},
   "source": [
    "下記の回路をテンソルネットワーク化すると、\n",
    "q0,q1,q'0,q'1は1脚、Hは2脚、CXは4脚のテンソルとなる。"
   ]
  },
  {
   "cell_type": "code",
   "execution_count": 29,
   "metadata": {},
   "outputs": [
    {
     "data": {
      "image/png": "[encoded data removed]",
      "text/plain": [
       "<Figure size 454.517x284.278 with 1 Axes>"
      ]
     },
     "execution_count": 29,
     "metadata": {},
     "output_type": "execute_result"
    }
   ],
   "source": [
    "# qiskitで回路図を確認する\n",
    "from qiskit import QuantumCircuit\n",
    "qc = QuantumCircuit(2,2)\n",
    "\n",
    "# ゲートを適用します。\n",
    "qc.h(0)\n",
    "qc.cx(0,1)\n",
    "\n",
    "# 測定ゲートを追加\n",
    "qc.measure(0, 0)\n",
    "qc.measure(1, 1)\n",
    "\n",
    "# 回路を描画\n",
    "qc.draw(output=\"mpl\")"
   ]
  },
  {
   "cell_type": "code",
   "execution_count": 31,
   "metadata": {},
   "outputs": [],
   "source": [
    "# 各種必要なゲート操作(行列を定義)\n",
    "O  = np.array([[0, 0],[0, 0]])  # ゼロ行列\n",
    "I  = np.array([[1, 0],[0, 1]])  # 単位行列\n",
    "X  = np.array([[0, 1],[1, 0]])  # Xゲート\n",
    "H  = np.array([[1, 1],[1,-1]]) / np.sqrt(2) # アダマールゲート定義\n",
    "CX = np.array([[I, O],[O, X]]) # CXゲート定義\n",
    "# 状態定義\n",
    "zero_state = np.array([1, 0]) # |0>状態定義\n",
    "one_state  = np.array([0, 1]) # |1>状態定義"
   ]
  },
  {
   "cell_type": "code",
   "execution_count": 32,
   "metadata": {},
   "outputs": [],
   "source": [
    "# ノード化\n",
    "H_node  = tn.Node(H, name=\"Hadamard Gate\") # アダマールゲートノード化\n",
    "CX_node = tn.Node(CX, name=\"Controlled NOT Gate\") # CXゲートノード化\n",
    "init_node_1 = tn.Node(zero_state, name=\"zero_init_state\") # 初期状態|q_1>=|0>ノード化\n",
    "init_node_0 = tn.Node(zero_state, name=\"zero_init_state\") # 初期状態|q_0>=|0>ノード化\n",
    "zero_final_node_1 = tn.Node(zero_state, name=\"zero_final_state\") # 終状態|q'_1>=|0>ノード化\n",
    "zero_final_node_0 = tn.Node(zero_state, name=\"zero_final_state\") # 終状態|q'_0>=|0>ノード化\n",
    "one_final_node_1  = tn.Node(one_state, name=\"one_final_state\") # 終状態|q'_1>=|1>ノード化\n",
    "one_final_node_0  = tn.Node(one_state, name=\"one_final_state\") # 終状態|q'_0>=|1>ノード化\n"
   ]
  },
  {
   "cell_type": "code",
   "execution_count": 38,
   "metadata": {},
   "outputs": [],
   "source": [
    "# |00> を設定 -> 解が0.5\n",
    "# final_node_1 = zero_final_node_1 # 終状態の設定|q'_1>\n",
    "# final_node_0 = zero_final_node_0 # 終状態の設定|q'_0>\n",
    "\n",
    "# |01> を設定 -> 解が0\n",
    "# final_node_1 = zero_final_node_1 # 終状態の設定|q'_1>\n",
    "# final_node_0 = one_final_node_0 # 終状態の設定|q'_0>\n",
    "\n",
    "# |10> を設定 -> 解が0\n",
    "# final_node_1 = one_final_node_1 # 終状態の設定|q'_1>\n",
    "# final_node_0 = zero_final_node_0 # 終状態の設定|q'_0>\n",
    "\n",
    "# |11> を設定 -> 解が0.5\n",
    "final_node_1 = one_final_node_1 # 終状態の設定|q'_1>\n",
    "final_node_0 = one_final_node_0 # 終状態の設定|q'_0>"
   ]
  },
  {
   "cell_type": "code",
   "execution_count": 39,
   "metadata": {},
   "outputs": [
    {
     "data": {
      "text/plain": [
       "0.4999999999999999"
      ]
     },
     "execution_count": 39,
     "metadata": {},
     "output_type": "execute_result"
    }
   ],
   "source": [
    "\n",
    "# |q_1>から|q'_1>までの脚の結合\n",
    "tn.connect(H_node[1], init_node_1[0])   # 初期状態|q_1>とアダマールゲートの結合\n",
    "tn.connect(CX_node[1], H_node[0])       # アダマールゲートとCXゲートの結合\n",
    "tn.connect(final_node_1[0], CX_node[0]) # CXゲートと終状態|q'_1>の結合\n",
    "# |q_0>から|q'_0>までの脚の結合\n",
    "tn.connect(CX_node[3], init_node_0[0])  # 初期状態|q_0>とCXゲートの結合\n",
    "tn.connect(final_node_0[0], CX_node[2]) # CXゲートと終状態|q'_0>の結合\n",
    "\n",
    "# 縮約\n",
    "result = tn.contractors.auto(\n",
    "    [init_node_1, init_node_0, H_node, CX_node, final_node_1, final_node_0]\n",
    ")\n",
    "\n",
    "# 確率計算\n",
    "np.abs(result.tensor)**2"
   ]
  },
  {
   "cell_type": "code",
   "execution_count": 28,
   "metadata": {},
   "outputs": [
    {
     "name": "stdout",
     "output_type": "stream",
     "text": [
      " > Counts: {'11': 524, '00': 500}\n"
     ]
    },
    {
     "data": {
      "image/png": "[encoded data removed]",
      "text/plain": [
       "<Figure size 700x500 with 1 Axes>"
      ]
     },
     "execution_count": 28,
     "metadata": {},
     "output_type": "execute_result"
    }
   ],
   "source": [
    "# # 補足：qiskitで計測して、00,11が観測されることを確認する。\n",
    "# from qiskit.transpiler.preset_passmanagers import generate_preset_pass_manager\n",
    "# from qiskit_ibm_runtime import SamplerV2 as Sampler\n",
    "# from qiskit_aer import AerSimulator\n",
    "# # シミュレーターで実験\n",
    "# backend = AerSimulator()\n",
    "# # 回路を最適化\n",
    "# pm = generate_preset_pass_manager(backend=backend, optimization_level=1)\n",
    "# isa_qc = pm.run(qc)\n",
    "# # Samplerで実行\n",
    "# sampler = Sampler(backend)\n",
    "# job = sampler.run([isa_qc])\n",
    "# result = job.result()\n",
    "\n",
    "# #  測定された回数を表示\n",
    "# counts = result[0].data.c.get_counts()\n",
    "# print(f\" > Counts: {counts}\")\n",
    "\n",
    "# ## ヒストグラムで測定された確率をプロット\n",
    "# from qiskit.visualization import plot_histogram\n",
    "# plot_histogram(counts)"
   ]
  },
  {
   "cell_type": "code",
   "execution_count": null,
   "metadata": {},
   "outputs": [],
   "source": []
  }
 ],
 "metadata": {
  "kernelspec": {
   "display_name": "Python 3",
   "language": "python",
   "name": "python3"
  },
  "language_info": {
   "codemirror_mode": {
    "name": "ipython",
    "version": 3
   },
   "file_extension": ".py",
   "mimetype": "text/x-python",
   "name": "python",
   "nbconvert_exporter": "python",
   "pygments_lexer": "ipython3",
   "version": "3.8.10"
  },
  "orig_nbformat": 4,
  "vscode": {
   "interpreter": {
    "hash": "e7370f93d1d0cde622a1f8e1c04877d8463912d04d973331ad4851f04de6915a"
   }
  }
 },
 "nbformat": 4,
 "nbformat_minor": 2
}
